{
 "cells": [
  {
   "cell_type": "markdown",
   "metadata": {},
   "source": [
    "# Assignment: Peform calculations on user input\n",
    "\n",
    "Write a script in the cell bellow that receives two numbers from the user and displays\n",
    "the result of taking the **first number** to the **power** of the **second number**. A sample run of\n",
    "the program should look like this (with example input that has been provided by the user\n",
    "included below):\n",
    "```\n",
    "Enter a base: 1.2\n",
    "Enter an exponent: 3\n",
    "1.2 to the power of 3 = 1.728\n",
    "```"
   ]
  },
  {
   "cell_type": "markdown",
   "metadata": {},
   "source": [
    "# Keep the following in mind:\n",
    "1. In Python, **$x^y$** (x raised to the power y) is calculated by uring the expression `x**y`\n",
    "2. Before you can do anything with user's input, you will have to store the results of both calls to `input()` in new objects.\n",
    "3. The `input()` function returns a string object, so you will need to convert the user's input into numbers in order to do arithmetic on them\n",
    "4. You should use the string `format()` method to print the result\n",
    "5. You can assume that the user will enter acutal numbers as input"
   ]
  },
  {
   "cell_type": "code",
   "execution_count": null,
   "metadata": {},
   "outputs": [],
   "source": []
  },
  {
   "cell_type": "code",
   "execution_count": null,
   "metadata": {},
   "outputs": [],
   "source": []
  },
  {
   "cell_type": "code",
   "execution_count": null,
   "metadata": {},
   "outputs": [],
   "source": []
  },
  {
   "cell_type": "code",
   "execution_count": null,
   "metadata": {},
   "outputs": [],
   "source": []
  },
  {
   "cell_type": "code",
   "execution_count": null,
   "metadata": {},
   "outputs": [],
   "source": []
  },
  {
   "cell_type": "code",
   "execution_count": null,
   "metadata": {},
   "outputs": [],
   "source": []
  }
 ],
 "metadata": {
  "kernelspec": {
   "display_name": "Python 3",
   "language": "python",
   "name": "python3"
  },
  "language_info": {
   "codemirror_mode": {
    "name": "ipython",
    "version": 3
   },
   "file_extension": ".py",
   "mimetype": "text/x-python",
   "name": "python",
   "nbconvert_exporter": "python",
   "pygments_lexer": "ipython3",
   "version": "3.6.3"
  }
 },
 "nbformat": 4,
 "nbformat_minor": 2
}
