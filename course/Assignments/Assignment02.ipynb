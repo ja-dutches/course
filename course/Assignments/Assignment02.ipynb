{
 "cells": [
  {
   "cell_type": "markdown",
   "metadata": {},
   "source": [
    "# Assignment: Turn your user into a l33t h4x0r\n",
    "\n",
    "Write a script below that asks the user for some input with the following prompt:\n",
    "**Enter some text:**\n",
    "\n",
    "You should then use the `replace()` method to convert the text entered by the user into\n",
    "<a target=\"_blank\" href=\"http://en.wikipedia.org/wiki/Leet\">\"leetspeak\"</a> by making the following changes to lower-case letters:\n",
    "- The letter: a becomes: 4\n",
    "- The letter: b becomes: 8\n",
    "- The letter: e becomes: 3\n",
    "- The letter: l becomes: 1\n",
    "- The letter: o becomes: 0\n",
    "- The letter: s becomes: 5\n",
    "- The letter: t becomes: 7\n",
    "\n",
    "Your program should then display the resulting output. A sample run of the program,\n",
    "with the user input in bold, is shown below:\n",
    "\n",
    "Enter some text: **I like to eat eggs and spam.** <br>\n",
    "I 1ik3 70 347 3gg5 2nd 5p4m"
   ]
  },
  {
   "cell_type": "code",
   "execution_count": null,
   "metadata": {},
   "outputs": [],
   "source": []
  },
  {
   "cell_type": "code",
   "execution_count": null,
   "metadata": {},
   "outputs": [],
   "source": []
  },
  {
   "cell_type": "code",
   "execution_count": null,
   "metadata": {},
   "outputs": [],
   "source": []
  },
  {
   "cell_type": "code",
   "execution_count": null,
   "metadata": {},
   "outputs": [],
   "source": []
  },
  {
   "cell_type": "code",
   "execution_count": null,
   "metadata": {},
   "outputs": [],
   "source": []
  },
  {
   "cell_type": "code",
   "execution_count": null,
   "metadata": {},
   "outputs": [],
   "source": []
  }
 ],
 "metadata": {
  "kernelspec": {
   "display_name": "Python 3",
   "language": "python",
   "name": "python3"
  },
  "language_info": {
   "codemirror_mode": {
    "name": "ipython",
    "version": 3
   },
   "file_extension": ".py",
   "mimetype": "text/x-python",
   "name": "python",
   "nbconvert_exporter": "python",
   "pygments_lexer": "ipython3",
   "version": "3.6.3"
  }
 },
 "nbformat": 4,
 "nbformat_minor": 2
}
