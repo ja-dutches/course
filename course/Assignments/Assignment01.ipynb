{
 "cells": [
  {
   "cell_type": "markdown",
   "metadata": {},
   "source": [
    "# Assignment: Pick apart your user's input\n",
    "\n",
    "Write a script named in the cells below that first prompts the user for input by using the string: **Tell me your password:**\n",
    "\n",
    "The script should then determine the **first letter** of the user's input, convert that letter to\n",
    "**upper-case**, and display it back. As an example, if the user input was \"no\" then the program should respond like this: **The first letter you entered was: N**\n",
    "\n",
    "For now, it's okay if your program crashes when the user enters nothing as input (just\n",
    "hitting ENTER instead). We'll find out a couple ways you could deal with this situation in\n",
    "an upcoming chapter."
   ]
  },
  {
   "cell_type": "code",
   "execution_count": null,
   "metadata": {},
   "outputs": [],
   "source": []
  },
  {
   "cell_type": "code",
   "execution_count": null,
   "metadata": {},
   "outputs": [],
   "source": []
  },
  {
   "cell_type": "code",
   "execution_count": null,
   "metadata": {},
   "outputs": [],
   "source": []
  },
  {
   "cell_type": "code",
   "execution_count": null,
   "metadata": {},
   "outputs": [],
   "source": []
  },
  {
   "cell_type": "code",
   "execution_count": null,
   "metadata": {},
   "outputs": [],
   "source": []
  }
 ],
 "metadata": {
  "kernelspec": {
   "display_name": "Python 3",
   "language": "python",
   "name": "python3"
  },
  "language_info": {
   "codemirror_mode": {
    "name": "ipython",
    "version": 3
   },
   "file_extension": ".py",
   "mimetype": "text/x-python",
   "name": "python",
   "nbconvert_exporter": "python",
   "pygments_lexer": "ipython3",
   "version": "3.6.3"
  }
 },
 "nbformat": 4,
 "nbformat_minor": 2
}
