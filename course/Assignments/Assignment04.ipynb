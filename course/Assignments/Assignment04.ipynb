{
 "cells": [
  {
   "cell_type": "markdown",
   "metadata": {},
   "source": [
    "# Assignment: Track your investments\n",
    "\n",
    "Write a script invest.py that will track the growing amount of an investment over time. This script includes an `invest()` function that takes three inputs: the initial investment amount, the annual compounding rate, and the total number of years to invest. So, the\n",
    "first line of the function will look like this:\n",
    "```python\n",
    "def invest(amount, rate, time):\n",
    "```\n",
    "\n",
    "The function then prints out the amount for every year of the time period.\n",
    "\n",
    "In the main body of the script (after defining the function), use the following code to test your function:\n",
    "```python\n",
    "invest(100, .05, 8)\n",
    "invest(2000, .025, 5)\n",
    "```\n",
    "Running this test code should produce the following output exactly:\n",
    "```\n",
    "principal amount: $100\n",
    "annual rate of return: 0.05\n",
    "year 1: $105.0\n",
    "year 2: $110.25\n",
    "year 3: $115.7625\n",
    "year 4: $121.550625\n",
    "year 5: $127.62815625\n",
    "year 6: $134.009564063\n",
    "year 7: $140.710042266\n",
    "year 8: $147.745544379\n",
    "\n",
    "principal amount: $2000\n",
    "annual rate of return: 0.025\n",
    "year 1: $2050.0\n",
    "year 2: $2101.25\n",
    "year 3: $2153.78125\n",
    "year 4: $2207.62578125\n",
    "year 5: $2262.81642578\n",
    "```"
   ]
  },
  {
   "cell_type": "markdown",
   "metadata": {},
   "source": [
    ">**NOTE:** Although functions usually return output values, this is entirely optional in Python. Functions themselves can print output directly as well. You can print as much as you like from inside a function, and the function will continue running until\n",
    "you reach its end.\n",
    "\n",
    "# Some additional pointers if you're stuck:\n",
    "1. You will need to use a `for` loop over a range that's based on the function's time input.\n",
    "2. Within your loop, you will need to reassign a new value to the amount every year based on how it grows at 1 + rate.\n",
    "3. Remember that you need to use either the string `format()` method or `str()` to convert numbers to strings first if you want to print both strings and numbers in a single statement.\n",
    "4. Using the `print()` function without passing any arguments will print a blank line."
   ]
  },
  {
   "cell_type": "code",
   "execution_count": null,
   "metadata": {},
   "outputs": [],
   "source": []
  },
  {
   "cell_type": "code",
   "execution_count": null,
   "metadata": {},
   "outputs": [],
   "source": []
  },
  {
   "cell_type": "code",
   "execution_count": null,
   "metadata": {},
   "outputs": [],
   "source": []
  },
  {
   "cell_type": "code",
   "execution_count": null,
   "metadata": {},
   "outputs": [],
   "source": []
  },
  {
   "cell_type": "code",
   "execution_count": null,
   "metadata": {},
   "outputs": [],
   "source": []
  },
  {
   "cell_type": "code",
   "execution_count": null,
   "metadata": {},
   "outputs": [],
   "source": []
  }
 ],
 "metadata": {
  "kernelspec": {
   "display_name": "Python 3",
   "language": "python",
   "name": "python3"
  },
  "language_info": {
   "codemirror_mode": {
    "name": "ipython",
    "version": 3
   },
   "file_extension": ".py",
   "mimetype": "text/x-python",
   "name": "python",
   "nbconvert_exporter": "python",
   "pygments_lexer": "ipython3",
   "version": "3.6.3"
  }
 },
 "nbformat": 4,
 "nbformat_minor": 2
}
