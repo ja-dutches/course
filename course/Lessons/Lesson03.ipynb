{
 "cells": [
  {
   "cell_type": "markdown",
   "metadata": {},
   "source": [
    "# Use Objects and Methods\n",
    "\n",
    "The Python programming language is an example of **Object-Oriented Programming\n",
    "(OOP)**, which means that we store our information in **objects**. In Python, a string is an\n",
    "example of an object. Strings are very simple objects - they only hold one piece of\n",
    "information (their value) - but a single object can be very complex. Objects can even\n",
    "hold other objects inside of them. This helps to give structure and organization to our\n",
    "programming.\n",
    "\n",
    "For instance, if we wanted to model a car, we would (hypothetically) create a Car object\n",
    "that holds lots of descriptive information about the car, called its **attributes**. It would have\n",
    "a color attribute, a model attribute, etc., and each of these attributes would hold one\n",
    "piece of descriptive information about the car. It would also include different objects like\n",
    "Tires, Doors, and an Engine that all have their own attributes as well.\n",
    "Different objects also have different capabilities, called **methods**. For instance, our Car\n",
    "object might have a `drive()` method and a `park()` method. Since these methods\n",
    "belong to the car, we use them with **\"dot notation\"** by putting them next to the object and\n",
    "after a period, like this:\n",
    "```python\n",
    "car.park()\n",
    "```\n",
    "Methods are followed by parentheses, because sometimes methods use input. For\n",
    "instance, if we wanted to drive the car object a distance of 50, we would place that input\n",
    "of 50 in the parentheses of the \"drive\" method:\n",
    "```python\n",
    "car.drive(50)\n",
    "```\n",
    "There are certain methods that belong to string objects as well. For instance, there is a\n",
    "string method called `upper()` that creates an upper-case version of the string.\n",
    "(Likewise, there is a corresponding method `lower()` that creates a lower-case version\n",
    "of a string.) Let's give it a try:\n",
    "```python\n",
    "In []: loud_voice = \"Can you hear me yet?\"\n",
    "       print(loud_voice.upper())\n",
    "```       "
   ]
  },
  {
   "cell_type": "code",
   "execution_count": null,
   "metadata": {},
   "outputs": [],
   "source": []
  },
  {
   "cell_type": "markdown",
   "metadata": {},
   "source": [
    "We created a string `loud_voice` , then we called its `upper()` **method** to return the\n",
    "upper-case version of the string, which we print to the screen.\n",
    "\n",
    ">NOTE: Methods are just functions that belong to objects. We already saw an\n",
    "example of a general-purpose function, the `len()` function, which can be used to\n",
    "tell us the length of many different types of objects, including strings. This is why\n",
    "we use the length function differently, by only saying: `len(loud_voice)`\n",
    ">\n",
    ">Meanwhile, we use dot notation to call methods that belong to an object, like when\n",
    "we call the `upper()` method that belongs to the string loud_voice :\n",
    "`loud_voice.upper()`\n",
    "\n",
    "Let's make things more interactive by introducing one more general function. We're\n",
    "going to get some input from the user of our program by using the function `input()`.\n",
    "The input that we pass to this function is the text that we want it to display as a **prompt**;\n",
    "what the function actually does is to receive additional input from the user. Try running\n",
    "the following script:\n",
    "```python\n",
    "In []: user_input = input(\"Hey, what's up? \")\n",
    "       print(\"You said: \", user_input)\n",
    "```       "
   ]
  },
  {
   "cell_type": "code",
   "execution_count": null,
   "metadata": {},
   "outputs": [],
   "source": []
  },
  {
   "cell_type": "markdown",
   "metadata": {},
   "source": [
    "Now we'll combine the function `input()` with the string method `upper()` in a script to\n",
    "modify the user's input:\n",
    "```python\n",
    "In []: response = input(\"What should I shout? \")\n",
    "       response = response.upper()\n",
    "       print(\"Well, if you insist...\", response)\n",
    "```"
   ]
  },
  {
   "cell_type": "code",
   "execution_count": null,
   "metadata": {},
   "outputs": [],
   "source": []
  },
  {
   "cell_type": "markdown",
   "metadata": {},
   "source": [
    "Calling `response.upper()` didn't change anything about our response string. The\n",
    "`upper()` method only returned the upper-case version of the string to us, and it was up\n",
    "to us to do something with it. That's why we had to set `response = response.upper()` in\n",
    "order to reassign the value of the string response to its own upper-case equivalent.\n",
    "\n",
    "In JupyterLab if you want to see all the methods that can apply to a particular kind of object,\n",
    "you can type that object out followed by a period and then hit **TAB**. For instance, first define\n",
    "a string object:\n",
    "```python\n",
    "In []: my_string = \"kerfuffle\"\n",
    "```"
   ]
  },
  {
   "cell_type": "code",
   "execution_count": null,
   "metadata": {},
   "outputs": [],
   "source": []
  },
  {
   "cell_type": "markdown",
   "metadata": {},
   "source": [
    "Now type the name of your string in again, followed by a period then press **TAB**\n",
    "```python\n",
    "In []: my_string.\n",
    "```"
   ]
  },
  {
   "cell_type": "code",
   "execution_count": null,
   "metadata": {},
   "outputs": [],
   "source": []
  },
  {
   "cell_type": "markdown",
   "metadata": {},
   "source": [
    "A related shortcut in JupyterLab is the ability to fill in text automatically without having to type\n",
    "in long names by hitting **TAB**. For instance, if you only type in \"my_string.u\" and then hit\n",
    "the TAB key, JupyterLab will automatically fill in \"my_string.upper\" because there is only one\n",
    "method belonging to my_string that begins with a \"u\". In fact, this even works with\n",
    "variable names; try typing in just the first few letters of \"my_string\" and, assuming you\n",
    "don't have any other names already defined that share those first letters, JupyterLab will\n",
    "automatically complete the name \"my_string\" for you when you hit the TAB key."
   ]
  },
  {
   "cell_type": "code",
   "execution_count": null,
   "metadata": {},
   "outputs": [],
   "source": []
  },
  {
   "cell_type": "markdown",
   "metadata": {},
   "source": [
    "# Review exercises:\n",
    "1. Write a script that takes input from the user and displays that input back\n",
    "2. Use **TAB** to view all the methods of a string object, then write a script that returns\n",
    "the lower-case version of a string"
   ]
  },
  {
   "cell_type": "code",
   "execution_count": null,
   "metadata": {},
   "outputs": [],
   "source": []
  },
  {
   "cell_type": "markdown",
   "metadata": {},
   "source": [
    "# Complete Assignment01"
   ]
  }
 ],
 "metadata": {
  "kernelspec": {
   "display_name": "Python 3",
   "language": "python",
   "name": "python3"
  },
  "language_info": {
   "codemirror_mode": {
    "name": "ipython",
    "version": 3
   },
   "file_extension": ".py",
   "mimetype": "text/x-python",
   "name": "python",
   "nbconvert_exporter": "python",
   "pygments_lexer": "ipython3",
   "version": "3.6.3"
  }
 },
 "nbformat": 4,
 "nbformat_minor": 2
}
