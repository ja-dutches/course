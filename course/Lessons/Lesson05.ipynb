{
 "cells": [
  {
   "cell_type": "markdown",
   "metadata": {},
   "source": [
    "# Fundamentals: Functions and Loops\n",
    "\n",
    "We already did some basic math. For instance, we saw that we could evaluate simple expressions just by typing them in, which\n",
    "would display the answer:\n",
    "```python\n",
    "In []: 6 * (1 + 6)\n",
    "```"
   ]
  },
  {
   "cell_type": "code",
   "execution_count": null,
   "metadata": {},
   "outputs": [],
   "source": []
  },
  {
   "cell_type": "markdown",
   "metadata": {},
   "source": [
    "If you want to display more than one calculation you have to use the `print()` function.  First\n",
    "lets try it without the `print()` function to see what happens:\n",
    "```python\n",
    "In []: 1 + 1\n",
    "       2 * (2 + 3)\n",
    "       1.2 / 0.3\n",
    "       5 / 2\n",
    "```"
   ]
  },
  {
   "cell_type": "code",
   "execution_count": 2,
   "metadata": {},
   "outputs": [
    {
     "data": {
      "text/plain": [
       "2.5"
      ]
     },
     "execution_count": 2,
     "metadata": {},
     "output_type": "execute_result"
    }
   ],
   "source": []
  },
  {
   "cell_type": "markdown",
   "metadata": {},
   "source": [
    "Only the last operation gets displayed. If we wrap these calulations in the `print()` function they \n",
    "will all be displayed:\n",
    "```python\n",
    "In []: print(\"1 + 1 =\", 1 + 1)\n",
    "       print(\"2 * (2 + 3) =\", 2 * (2 + 3))\n",
    "       print(\"1.2 / 0.3 =\", 1.2 / 0.3)\n",
    "       print(\"5 / 2 =\", 5 / 2)\n",
    "```       "
   ]
  },
  {
   "cell_type": "code",
   "execution_count": null,
   "metadata": {},
   "outputs": [],
   "source": []
  },
  {
   "cell_type": "markdown",
   "metadata": {},
   "source": [
    "Here we've used a single print statement on each line to combined two pieces of \n",
    "information by separating the values with a comma. The results of the numerical\n",
    "expressions on the right will automatically be calculated when we display it.\n",
    "\n",
    ">**NOTE:** All of the spaces we included above were entirely optional, but they help to\n",
    "makes things easier to read."
   ]
  },
  {
   "cell_type": "markdown",
   "metadata": {},
   "source": [
    "# Complete Assignment03"
   ]
  }
 ],
 "metadata": {
  "kernelspec": {
   "display_name": "Python 3",
   "language": "python",
   "name": "python3"
  },
  "language_info": {
   "codemirror_mode": {
    "name": "ipython",
    "version": 3
   },
   "file_extension": ".py",
   "mimetype": "text/x-python",
   "name": "python",
   "nbconvert_exporter": "python",
   "pygments_lexer": "ipython3",
   "version": "3.6.3"
  }
 },
 "nbformat": 4,
 "nbformat_minor": 2
}
