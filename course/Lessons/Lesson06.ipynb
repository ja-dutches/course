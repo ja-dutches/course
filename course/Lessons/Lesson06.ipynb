{
 "cells": [
  {
   "cell_type": "markdown",
   "metadata": {},
   "source": [
    "# Create Your Own Functions\n",
    "\n",
    "One of the main benefits of programming in Python is the ease with which different parts\n",
    "and pieces of code can be put together in new ways. Think of it like building with Lego\n",
    "bricks instead of having to craft everything by hand each time you start a project.\n",
    "\n",
    "The Lego brick of programming is called a function. A function is basically a miniature\n",
    "program; it accepts input and produces output. We've already seen some examples of\n",
    "functions such as the `find()` string method - when called on a string, it takes some\n",
    "input and returns the location of that input within the string as its output.\n",
    "\n",
    ">**NOTE:** Functions are like the functions from a math class: You provide the input\n",
    "and the function produces output.\n",
    "\n",
    "We could create our own function that takes a number as its input and produces the\n",
    "square of that number as its output. In Python, this would look like:\n",
    "```python\n",
    "def square(number):\n",
    "    sqr_num = number ** 2\n",
    "    return sqr_num\n",
    "```"
   ]
  },
  {
   "cell_type": "code",
   "execution_count": null,
   "metadata": {},
   "outputs": [],
   "source": []
  },
  {
   "cell_type": "markdown",
   "metadata": {},
   "source": [
    "The `def` is short for \"define\" and lets Python know that we are about to define a new\n",
    "function. In this case, we called the function square and gave it one **input variable** (the\n",
    "part in parentheses) named **number**. A function's input (or, the value passed to a\n",
    "function) is called an **argument** of the function, and a function can take more than one\n",
    "argument.\n",
    "\n",
    "The first line within our function multiplies number by itself and stores the result in a new\n",
    "variable named **sqr_num**. Then the last line of our function **returns** the value of sqr_num,\n",
    "which is the output of our function.\n",
    "\n",
    "If you just type these three lines into a script, save it and run it, nothing will happen. The\n",
    "function doesn't do anything by itself.\n",
    "\n",
    "However, now we can use the function later on.\n",
    "```python\n",
    "input_num = 5\n",
    "output_num = square(input_num)\n",
    "print(out_putnum)\n",
    "```"
   ]
  },
  {
   "cell_type": "code",
   "execution_count": null,
   "metadata": {},
   "outputs": [],
   "source": []
  },
  {
   "cell_type": "markdown",
   "metadata": {},
   "source": [
    "By saying `output_num = square(input_num)`, we are calling up the function **square** and\n",
    "providing this function with the input variable **input_num**, which in this case has a value\n",
    "of 5. Our function then calculates 25 and returns the value of the variable **sqr_num**,\n",
    "which gets stored in our new variable **output_num**.\n",
    "\n",
    ">**NOTE:** Notice the colon and the indentation after we defined our function. These\n",
    "aren't optional. This is how Python knows that we are still inside of the function. As\n",
    "soon as Python sees a line that isn't indented, that's the end of the function. Every\n",
    "line inside the function must be indented.\n",
    "\n",
    "You can define many functions in one script, and functions can even refer to each other.\n",
    "However, it's important that a function has been defined before you try to use it. For\n",
    "instance:\n",
    "```python\n",
    "input_num = 5\n",
    "output_num = add(input_num)\n",
    "print(out_putnum)\n",
    "\n",
    "def add(number):\n",
    "    number =number + number\n",
    "    return number\n",
    "```    "
   ]
  },
  {
   "cell_type": "code",
   "execution_count": null,
   "metadata": {},
   "outputs": [],
   "source": []
  },
  {
   "cell_type": "markdown",
   "metadata": {},
   "source": [
    "Here we've just reordered the two parts of our script so that the main section comes\n",
    "before the function. The problem here is that Python runs through our code from the top\n",
    "to the bottom - so when we call the add function on the second line, Python has no\n",
    "idea what we mean yet because we don't actually define the add function until later\n",
    "on in the script, and it hasn't gotten there yet. Instead we see an error:\n",
    "```\n",
    "NameError: name 'add' is not defined\n",
    "```"
   ]
  },
  {
   "cell_type": "markdown",
   "metadata": {},
   "source": [
    "To create a function that uses more than one input, all we need to do is separate each\n",
    "argument of the function with a comma. For instance, the following function takes two\n",
    "arguments as input and returns the difference, subtracting the second number from the\n",
    "first:\n",
    "```python\n",
    "def return_difference(num1, num2):\n",
    "    return num1 - num2\n",
    "```    "
   ]
  },
  {
   "cell_type": "code",
   "execution_count": null,
   "metadata": {},
   "outputs": [],
   "source": []
  },
  {
   "cell_type": "markdown",
   "metadata": {},
   "source": [
    "To call this function, we need to supply it with two inputs:\n",
    "```python\n",
    "print(return_difference(3, 5))\n",
    "```"
   ]
  },
  {
   "cell_type": "code",
   "execution_count": null,
   "metadata": {},
   "outputs": [],
   "source": []
  },
  {
   "cell_type": "markdown",
   "metadata": {},
   "source": [
    "This line will call our new `return_difference()` function, then display the result of -2 that\n",
    "the function returns.\n",
    "\n",
    ">**NOTE:** Once a function returns a value with the return command, the function is\n",
    "done running; if any code appears inside the function after the return statement, it\n",
    "will never be run because the function has already returned its final result.\n",
    "\n",
    "One last helpful thing about functions is that Python allows you to add special comments\n",
    "called **docstrings**. A **docstring** serves as documentation, helping to explain what a\n",
    "function does and how to use it. They're completely optional, but can be helpful if there's\n",
    "any chance that you'll either share your code with someone else or if you ever come\n",
    "back to your code later, once you've forgotten what it's supposed to do - which is why\n",
    "you should leave comments in the first place. A **docstring** looks just like a multi-line\n",
    "comment with three quotation marks, but it has to come at the very beginning of a\n",
    "function, right after the first definition line:\n",
    "```python\n",
    "def return_difference(num1, num2):\n",
    "    \"\"\"Return the difference betweeb two numbers.\n",
    "       Subtracts n2 from n1.\"\"\"\n",
    "    return num1 - num2\n",
    "```  "
   ]
  },
  {
   "cell_type": "code",
   "execution_count": null,
   "metadata": {},
   "outputs": [],
   "source": []
  },
  {
   "cell_type": "markdown",
   "metadata": {},
   "source": [
    "The benefit of this (besides leaving a helpful comment in the code) is that we can now\n",
    "use the `?` function to get information about this function.:\n",
    "```python\n",
    "return_difference?\n",
    "```"
   ]
  },
  {
   "cell_type": "code",
   "execution_count": null,
   "metadata": {},
   "outputs": [],
   "source": []
  },
  {
   "cell_type": "markdown",
   "metadata": {},
   "source": [
    "Of course, you can also call ? on the many other Python functions we'll see to get\n",
    "a quick reference on how they are used."
   ]
  },
  {
   "cell_type": "markdown",
   "metadata": {},
   "source": [
    "# Functions Summary\n",
    "So, what do we know about functions?\n",
    "1. Functions require a function signature.\n",
    "2. They do something useful.\n",
    "3. They allow us re-use code without having to type each line out.\n",
    "4. They can take an input and usually produce some output.\n",
    "5. You call a function by using its name followed by empty parenthesis or its\n",
    "arguments in parenthesis.\n",
    "\n",
    "# Functions require a function sinature.\n",
    "Function signatures tell the user how the function should be called. They start with the\n",
    "`def` keyword, indicating to the Python interpreter that we're defining a function. Next\n",
    "comes a space along with the the name of the function, and then an open and closed\n",
    "parenthesis. If the function takes any inputs, we define these inside the parenthesis and\n",
    "separate each one with a comma, except the last. We call these parameters.\n",
    "\n",
    "The names of parameters should describe what they are used for, while the names of\n",
    "functions should be descriptive enough for the user to understand what it does. Best\n",
    "practice: a function name should be a verb or an action and arguments names should be\n",
    "nouns.\n",
    "\n",
    "For example:\n",
    "```python\n",
    "def add_two_numbers(num1, num2):\n",
    "```"
   ]
  },
  {
   "cell_type": "markdown",
   "metadata": {},
   "source": [
    "# They do something useful\n",
    "Within the function itself something useful should happen, otherwise you have to\n",
    "question, \"Why does the function exist in the first place?\"\n",
    "\n",
    "In our `add_two_numbers()` function, we could, as the name describes, add two numbers:\n",
    "```python\n",
    "def add_two_numbers(num1, num2):\n",
    "    sum = num1 + num2\n",
    "```"
   ]
  },
  {
   "cell_type": "markdown",
   "metadata": {},
   "source": [
    "# They allow us re-use code without having to type each line out\n",
    "We can use this function as many times as we want, passing in two numbers, which will\n",
    "then get combined.\n",
    "# They take an input and usually produce some output\n",
    "In the above function, we pass in two numbers as input parameters, but we don't return\n",
    "anything. Therefore, we don't get any output. Let's fix that by returning the sum:\n",
    "```python\n",
    "def add_two_numbers(num1, num2):\n",
    "    sum = num1 + num2\n",
    "    return sum\n",
    "```"
   ]
  },
  {
   "cell_type": "markdown",
   "metadata": {},
   "source": [
    "# You call a function by using its name followed by its arguments in parenthesis\n",
    "We can call this function as many times as we'd like, providing different arguments each\n",
    "time to produce new output:\n",
    "```python\n",
    "def add_two_numbers(num1, num2):\n",
    "    sum = num1 + num2\n",
    "    return sum\n",
    "\n",
    "print(add_two_numbers(1, 1))\n",
    "print(add_two_numbers(1, 2))\n",
    "print(add_two_numbers(-20, 9))\n",
    "```"
   ]
  },
  {
   "cell_type": "code",
   "execution_count": null,
   "metadata": {},
   "outputs": [],
   "source": []
  },
  {
   "cell_type": "markdown",
   "metadata": {},
   "source": [
    "# Review exercise:\n",
    "1. Write a `cube()` function that takes a number and multiplies that number by itself\n",
    "twice over, returning the new value; test the function by displaying the result of\n",
    "calling your cube() function on a few different numbers\n",
    "2. Write a function `multiply()` that takes two numbers as inputs and multiplies them\n",
    "together, returning the result; test your function by saving the result of multiply(2,\n",
    "5) in a new variable and printing it"
   ]
  },
  {
   "cell_type": "code",
   "execution_count": null,
   "metadata": {},
   "outputs": [],
   "source": []
  },
  {
   "cell_type": "code",
   "execution_count": null,
   "metadata": {},
   "outputs": [],
   "source": []
  },
  {
   "cell_type": "code",
   "execution_count": null,
   "metadata": {},
   "outputs": [],
   "source": []
  },
  {
   "cell_type": "markdown",
   "metadata": {},
   "source": [
    "# Complete Assignment04"
   ]
  }
 ],
 "metadata": {
  "kernelspec": {
   "display_name": "Python 3",
   "language": "python",
   "name": "python3"
  },
  "language_info": {
   "codemirror_mode": {
    "name": "ipython",
    "version": 3
   },
   "file_extension": ".py",
   "mimetype": "text/x-python",
   "name": "python",
   "nbconvert_exporter": "python",
   "pygments_lexer": "ipython3",
   "version": "3.6.3"
  }
 },
 "nbformat": 4,
 "nbformat_minor": 2
}
