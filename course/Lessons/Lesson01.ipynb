{
 "cells": [
  {
   "cell_type": "markdown",
   "metadata": {},
   "source": [
    "# Write a Python script\n",
    "\n",
    "The window we have open at the moment is Jupyter Notebook;\n",
    "You can enter Python code into the cells window. Go ahead and try typing some basic math into the interactive cells then press **shift + enter**, it should evaluate your calculation, display and add an empty cell.\n",
    "```python\n",
    "In []: 1 + 1\n",
    "```"
   ]
  },
  {
   "cell_type": "code",
   "execution_count": 1,
   "metadata": {},
   "outputs": [
    {
     "data": {
      "text/plain": [
       "2"
      ]
     },
     "execution_count": 1,
     "metadata": {},
     "output_type": "execute_result"
    }
   ],
   "source": [
    "1 + 1"
   ]
  },
  {
   "cell_type": "markdown",
   "metadata": {},
   "source": [
    "Let's try out some actual code. The standard program to display **\"Hello, world\"** on the screen is just that simple in Python.\n",
    "```python\n",
    "In []: print(\"Hello, world\")\n",
    "```\n",
    "Don't for get to press **shift + enter**!"
   ]
  },
  {
   "cell_type": "code",
   "execution_count": null,
   "metadata": {},
   "outputs": [],
   "source": []
  },
  {
   "cell_type": "markdown",
   "metadata": {},
   "source": [
    "# Screw Things UP\n",
    "\n",
    "Everybody makes mistakes - especially while programming. In case you haven't made any mistakes yet, let's get a head start on that and mess something up on purpose to see what happens.\n",
    "\n",
    "Let's do this by trying to print improperly.\n",
    "```python\n",
    "In []: print(\"Hello, world)\n",
    "```"
   ]
  },
  {
   "cell_type": "code",
   "execution_count": null,
   "metadata": {},
   "outputs": [],
   "source": []
  },
  {
   "cell_type": "markdown",
   "metadata": {},
   "source": [
    "So what happened? Python is telling us a few things:\n",
    "- An error occurred - specifically, Python calls it a **SyntaxError**\n",
    "- The error happened on line 1 of the **cell**\n",
    "- The line that generated the error was: print(\"Hello, world)\n",
    "- The specific error was: **EOL while scanning string literal** EOL stands for **E**nd **O**f **L**ine"
   ]
  },
  {
   "cell_type": "markdown",
   "metadata": {},
   "source": [
    "This is called a run-time error since it only occurs once the program is already running. Since we didn't put quotes around Hello, world, Python didn't know where the end of the line was."
   ]
  },
  {
   "cell_type": "markdown",
   "metadata": {},
   "source": [
    "# Store a Variable\n",
    "\n",
    "Let's try writing a different version of Hello World. Here we'll use a variable to store our text before printing the text to the screen:\n",
    "```python\n",
    "In [] phrase = \"Hello, world\"\n",
    "      print(phrase)\n",
    "```"
   ]
  },
  {
   "cell_type": "code",
   "execution_count": null,
   "metadata": {},
   "outputs": [],
   "source": []
  },
  {
   "cell_type": "markdown",
   "metadata": {},
   "source": [
    "Notice the difference in where the quotation marks go from our previous script. We are creating a variable named **phrase** and assigning it the **value of the string of text \"Hello, world\"**. We then print the phrase to the screen.\n",
    "\n",
    "Notice that we didn't say\"\n",
    "```python\n",
    "print(\"phrase\")\n",
    "```\n",
    "Using quotes here would just print the word **\"phrase\"** instead of printing the contents of the variable named **phrase**.\n",
    "\n",
    "Phrases that appear in quotation marks are called **strings**. We call them strings because they're just that - strings of characters. \n",
    "\n",
    "We also didn't type our code like this:\n",
    "```python\n",
    "Phrase = \"Hello, world\"\n",
    "print(phrase)\n",
    "```\n",
    "Can you spot the difference? In this example, the first line defines the variable **Phrase** with a capital \"P\" at the beginning, but the second line prints out the variable **phrase**\n",
    "\n",
    ">**WARNING**: Since Python is case-sensitive, the variables **Phrase** and **phrase** are entirely different things. Likewise, commands start with lowercase letters; we can tell Python to print, but it wouldn't know how to Print. Keep this importand distinction in mind!\n",
    "\n",
    "When you run into trouble with the sample code, be sure to double-check that every character in your code (often including spaces) exactly matches the examples. Computers don't have any common sense to interpret what you meant to say, so being almost correct still won't get a computer to do the right thing!\n",
    "\n",
    "# Review exercises:\n",
    "1. Display some text on the screen by using **print**.\n",
    "2. Display a **string** of text by saving the string to a **variable**, then printing the contents of that variable."
   ]
  },
  {
   "cell_type": "markdown",
   "metadata": {},
   "source": []
  },
  {
   "cell_type": "code",
   "execution_count": null,
   "metadata": {},
   "outputs": [],
   "source": []
  },
  {
   "cell_type": "markdown",
   "metadata": {},
   "source": [
    "# Interlude: Leave yourself helpful notes\n",
    "\n",
    "As you start to write more complicated scripts, you'll start to find yourself going back to parts of your code after you've written them and thinking, **\"What the heck was that supposed to do\"?**\n",
    "\n",
    "To avoid these moments, you can leave yourself notes in your code; they don't affect the way the script runs at all, but they help to document what's supposed to be happening. These notes are referred to as comments, and in Python you start a comment with a pound ( # ) sign. Our first script could have looked like this:\n",
    "```python\n",
    "# This is my first script\n",
    "phrase = \"Hello, world.\"\n",
    "print(phrase)  # this line displays \"Hello, world\"\n",
    "```\n",
    "The first line doesn't do anything, because it starts with a **#**. This tells Python to ignore the line completely because it's just a note for you.\n",
    "\n",
    "Likewise, Python ignores the comment on the last line; it will still print **phrase**, but everythin staring with the **#** is simlply a comment.\n",
    "\n",
    "Of course, you can still use a # symbol inside a string. For instance, Python won't mistake the following for the start of a comment:\n",
    "```python\n",
    "print('#1')\n",
    "```\n",
    "If you have a lot to say, you can also create comments the span over multiple lines by using a series of three single quotes (**'''**) or three double quotes (**\"\"\"**) without any soaces between them. Once you do that, everythin after the **'''** or **\"\"\"** becomes a comment until you close the comment with a matching **'''** or **\"\"\"**. For instance, if you were feeling excessively verbose, our first script could have looked like this:\n",
    "```python\n",
    "\"\"\"\n",
    "This is my first script.\n",
    "It prints the phrase \"Hello, world.\"\n",
    "The comments are longer than the script\n",
    "\"\"\"\n",
    "phrase = \"Hello, world.\"\n",
    "print(phrase)\n",
    "'''\n",
    "The line above displays \"Hello, world\"\n",
    "'''\n",
    "```\n",
    "Besides leaving yourself notes, another common use of comments is to \"comment out code\" while you're testing parts of a script to temporarily stop that part of the code from running. In other words, adding a **#** at the beginning of a line of code is an easy way to make sure that you don't actually use that line, even though you might want to keep it and use it later."
   ]
  },
  {
   "cell_type": "code",
   "execution_count": null,
   "metadata": {},
   "outputs": [],
   "source": []
  },
  {
   "cell_type": "code",
   "execution_count": null,
   "metadata": {},
   "outputs": [],
   "source": []
  }
 ],
 "metadata": {
  "kernelspec": {
   "display_name": "Python 3",
   "language": "python",
   "name": "python3"
  },
  "language_info": {
   "codemirror_mode": {
    "name": "ipython",
    "version": 3
   },
   "file_extension": ".py",
   "mimetype": "text/x-python",
   "name": "python",
   "nbconvert_exporter": "python",
   "pygments_lexer": "ipython3",
   "version": "3.6.3"
  }
 },
 "nbformat": 4,
 "nbformat_minor": 2
}
