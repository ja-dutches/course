{
 "cells": [
  {
   "cell_type": "markdown",
   "metadata": {},
   "source": [
    "# Run in circles\n",
    "\n",
    "One major benefit of computers is that we can make them do the same exact thing over and over again, and they rarely complain or get tired. The easiest way to program your computer to repeat itself is with a loop.\n",
    "\n",
    "There are two kinds of loops in Python: **for loops** and **while loops**. The basic idea behind any kind of loop is to run a section of code repeatedly as long as a specific statement (called the test condition) is true. For instance, try running this script that uses\n",
    "a while loop:\n",
    "```python\n",
    "n = 1\n",
    "while (n < 5):\n",
    "    print(\"n =\", n)\n",
    "    n = n + 1\n",
    "print(\"Loop finished\")\n",
    "```"
   ]
  },
  {
   "cell_type": "code",
   "execution_count": null,
   "metadata": {},
   "outputs": [],
   "source": []
  },
  {
   "cell_type": "markdown",
   "metadata": {},
   "source": [
    "Here we create a variable `n` and assign it a value of 1. Then we start the `while` loop, which is organized in a similar way to how we defined a function. The statement that we are testing comes in parentheses after the while command; in this case we want to know if the statement `n < 5` is true or false . Since `1 < 5`, the statement is true\n",
    "and we enter into the loop after the colon.\n",
    "\n",
    ">**NOTE:** Notice the indentation on the lines after the colon. Just like when we defined a function, this spacing is important The colon and indenting let Python know that the next lines are inside the while loop. As soon as Python sees a line that isn't indented, that line and the rest of the code after it will be considered outside of the loop.\n",
    "\n",
    "Once we've entered the loop, we print the value of the variable `n`, then we add 1 to its value. Now `n` is 2, and we go back to test our while statement. This is still true, since `2 < 5`, so we run through the next two lines of code again… And we keep on with this pattern while the statement `n < 5` is true.\n",
    "\n",
    "As soon as this statement becomes false, we're completely done with the loop; we jump straight to the end and continue on with the rest of the script, in this case printing out \"Loop finished \"\n",
    "\n",
    "Go ahead and test out different variations of this code and try to guess what your output will be before you run each script. Just be careful: it's easy to create what's called an infinite loop; if you test a statement that's always going to be true, you will never break\n",
    "out of the loop, and your code will just keep running forever.\n",
    "\n",
    ">**NOTE:** It's important to be consistent with indentation, too. Notice how you can hit tab and backspace to change indentation, and JupyterLab automatically inserts four space characters. That's because you can't mix tabs and spaces as indentation. Although JupyterLab won't let you make this mistake, if you were to open your script in a\n",
    "different text editor and replace some of the space indentation with tabs, Python would get confused - even though the spacing looks the same to you. \n",
    "\n",
    "The second type of loop, a **for loop**, is slightly different in Python. We typically use for loops in Python in order to loop over every individual item in a set of similar things - these things could be numbers, variables, lines from an input file, etc.\n",
    "\n",
    "For instance, the following code does the exact same thing as our previous script by using a **for loop** to repeatedly run code for a range of numbers:\n",
    "```python\n",
    "for n in range(1, 5):\n",
    "    print(\"n =\", n)\n",
    "print(\"Loop finished\")\n",
    "```"
   ]
  },
  {
   "cell_type": "code",
   "execution_count": null,
   "metadata": {},
   "outputs": [],
   "source": []
  },
  {
   "cell_type": "markdown",
   "metadata": {},
   "source": [
    "Here we are using the `range()` function, which is a function that is built into Python, to return a list of numbers. The `range()` function takes two input values, a starting number and a stopping number. So in the first line, we create a variable `n` equal to 1, then we\n",
    "run through the code inside of our loop for `n = 1`.\n",
    "\n",
    "We then run through the loop again for `n = 2`, etc., all the way through our range of numbers. Once we get to the end of the range, we jump out of the loop. Yes, it's slightly counter-intuitive, but in Python a `range(x, y)` starts at `x` but ends right before `y`.\n",
    "\n",
    ">**NOTE:** When we use a `for` loop, we don't need to define the variable we'll be looping over first. This is because the for loop reassigns a new value to the variable each time we run through the loop. In the above example, we assigned the value 1 to the object `n` as soon as we started the loop. This is different from a while loop, where the first thing we do is to test some condition - which is why\n",
    "we need to have given a value to any variable that appears in the while loop before we enter the loop.\n",
    "\n",
    "Play around with some variations of this script to make sure you understand how the `for` loop is structured. Again, be sure to use the exact same syntax, including the `in` keyword, the colon, and the proper indentation inside the loop.\n",
    "\n",
    "**Don't just copy and paste the sample code into a script - type it out yourself. Not only will that help you learn the concepts, but the proper indentation won't copy over correctly anyway…**\n",
    "\n",
    "As long as we indent the code correctly, we can even put loops inside loops.\n",
    "\n",
    "Try this out:\n",
    "```python \n",
    "for n in range(1, 4):\n",
    "    for j in [\"a\", \"b\", \"c\"]:\n",
    "        print(\"n =\", n, \"and j =\", j)\n",
    "```        "
   ]
  },
  {
   "cell_type": "code",
   "execution_count": null,
   "metadata": {},
   "outputs": [],
   "source": []
  },
  {
   "cell_type": "markdown",
   "metadata": {},
   "source": [
    "Here `j` is looping over a list of strings; we'll see how lists work in a later chapter, but this example is only to show that you don't have to use the `range()` function with a `for` loop. Since the `j` loop is inside the `n` loop, we run through the entire `j` loop `( j=\"a\", j=\"b\", j=\"c\" )` for each value that gets assigned to `n` in the outer loop.\n",
    "\n",
    "We will use `for` loops in future chapters as an easy way to loop over all the items stored in many different types of objects - for instance, all the lines in a file.\n",
    "\n",
    ">**NOTE:** Once your code is running in the interactive window, sometimes you might accidentally end up entering a loop that takes much longer than you expected. If that's the case (or if your code seems \"frozen\" because of anything else that's taking longer than expected), you can usually break out of the code by typeing ii. This should immediately stop the sript. This is known as **Keyboard Interuption**.\n",
    "\n",
    "If that doesn't seem to have any effect (because you somehow managed to freeze the JupyterLab), you can usually type 00 which will restart the kernel.\n",
    "\n",
    "# Review exercises\n",
    "\n",
    "1. Write a `for` loop that prints out the integers 2 through 10, each on a new line, by using the `range()` function.\n",
    "2. Use a `while` loop that prints out the integers 2 through 10 (Hint: you'll need to create a new integer first; there isn't a good reason to use a while loop instead of a for loop in this case, but it's good practice...)\n",
    "3. Write a function called `doubles()` that takes one number as its input and doubles that number three times using a loop, displaying each result on a separate line; test your function by calling `doubles(2)` to display 4, 8, and 16"
   ]
  },
  {
   "cell_type": "code",
   "execution_count": null,
   "metadata": {},
   "outputs": [],
   "source": []
  },
  {
   "cell_type": "code",
   "execution_count": null,
   "metadata": {},
   "outputs": [],
   "source": []
  },
  {
   "cell_type": "code",
   "execution_count": null,
   "metadata": {},
   "outputs": [],
   "source": []
  },
  {
   "cell_type": "code",
   "execution_count": null,
   "metadata": {},
   "outputs": [],
   "source": []
  },
  {
   "cell_type": "markdown",
   "metadata": {},
   "source": [
    "# Complete Assignment05"
   ]
  }
 ],
 "metadata": {
  "kernelspec": {
   "display_name": "Python 3",
   "language": "python",
   "name": "python3"
  },
  "language_info": {
   "codemirror_mode": {
    "name": "ipython",
    "version": 3
   },
   "file_extension": ".py",
   "mimetype": "text/x-python",
   "name": "python",
   "nbconvert_exporter": "python",
   "pygments_lexer": "ipython3",
   "version": "3.6.3"
  }
 },
 "nbformat": 4,
 "nbformat_minor": 2
}
