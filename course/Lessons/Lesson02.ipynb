{
 "cells": [
  {
   "cell_type": "markdown",
   "metadata": {},
   "source": [
    "# Fundamentals: Strings and Methods\n",
    "\n",
    "As we've already seen, you write strings in Python by surrounding them with quotes. You can use single quotes or double quotes, as long as you're consistent for any one string. All of the following lines create string variables (called string literals because we've literally written out exactly how they look):\n",
    "\n",
    "1. phrase = 'Hello, world.\n",
    "2. my_string = \"We're #1!\"\n",
    "3. string_number = \"1234\"\n",
    "4. conversation = 'I said, \"Put it over by the llama.\"\n",
    "\n",
    "Strings can include any characters - letters, numbers and symbols. You can see the benefit of using either single or double quotes in the last string example; since we used single quotes, we didn't have any trouble putting double quotes inside the string. (There are other ways to do this, but we'll get to those later in the chapter.) \n",
    "\n",
    "We can also create really long strings that take up multiple lines by using three single quotes (or three double quotes), like this:\n",
    "```python\n",
    "long_string = '''This is a \n",
    "string that spans across multiple lines'''\n",
    "\n",
    "long_string = \"\"\"This is a new string\n",
    "that spans across two lines\"\"\"\n",
    "```\n",
    "Here we assigned one value to the variable long_string, then we overwrote that value with a new string literal. Try putting this in a script and then print the variable long_string; you'll see that it displays the string on two separate lines."
   ]
  },
  {
   "cell_type": "code",
   "execution_count": null,
   "metadata": {},
   "outputs": [],
   "source": []
  },
  {
   "cell_type": "markdown",
   "metadata": {},
   "source": [
    "It's also worth noting that you can preserve whitespace if you use triple quotes:\n",
    "```python\n",
    "print(\"\"\"this is a\n",
    "    string that spans across multiple lines\n",
    "        that also preseves whitespace.\"\"\")\n",
    "```\n",
    "One last thing about strings: If you want to write out a really long string, but you don't want it to appear on multiple lines, you can use a backslash like this when writing it out:\n",
    "```python\n",
    "my_long_string = \"Here's a string that I want to \\\n",
    "write across multiple lines since it is long.\"\n",
    "```\n",
    "\n",
    "Normally Python would get to the end of the first line and get angry with you because you hadn't closed the string with a matching single quote. But because there's a backslash at the end, you can just keep writing the same string on the next line. This is different from the last example since the actual string isn't stored on multiple lines this time, therefore the string gets displayed on a single line without the break:\n",
    "\n",
    ">**WARNING**: As we've already discussed, Python is case-sensitive. By convention, Python's built-in functions and methods use exclusively lower-case. Since a single variable name can't include any spaces or dashes, when programmers want to give descriptive names to variables, one way of making them easily readable is to use camelCase (i.e., myLongString), so called because of the upper-case \"humps\" in the middle of terms. Another popular method (especially in Python),\n",
    "and the one we'll be sticking to in this course, is to separate words using underscores (i.e., my_long_string).`\n",
    "\n",
    "# Review exercises:\n",
    "1. Print a string that used double quotation marks inside the string.\n",
    "2. Print a string that uses an apostrophe (single quote) inside the string.\n",
    "3. Print a string that spans accress multiple lines\n",
    "4. Print a one-line string that you have written out on multiple lines."
   ]
  },
  {
   "cell_type": "code",
   "execution_count": null,
   "metadata": {},
   "outputs": [],
   "source": []
  },
  {
   "cell_type": "code",
   "execution_count": null,
   "metadata": {},
   "outputs": [],
   "source": []
  },
  {
   "cell_type": "code",
   "execution_count": null,
   "metadata": {},
   "outputs": [],
   "source": []
  },
  {
   "cell_type": "code",
   "execution_count": null,
   "metadata": {},
   "outputs": [],
   "source": []
  },
  {
   "cell_type": "markdown",
   "metadata": {},
   "source": [
    "# Mess Around with Your Words\n",
    "\n",
    "Python has some built-in functionality that we can use to modify our strings or get more information about them. For instance, there's a \"length\" function (abbreviated as \"len\" in Python) that can tell you the length of all sorts of things, including strings. Try typing\n",
    "these lines into the interactive window:\n",
    "```python\n",
    "In []: my_string = \"abc\"\n",
    "       string_length = len(my_string)\n",
    "       print(string_length)\n",
    "```"
   ]
  },
  {
   "cell_type": "code",
   "execution_count": null,
   "metadata": {},
   "outputs": [],
   "source": []
  },
  {
   "cell_type": "markdown",
   "metadata": {},
   "source": [
    "First we created a string named `my_string`. Then we used the `len()` function on `my_string` to calculate its length, which we store in the new variable we named `string_length`. We have to give the `len()` function some input for its calculation, which we do by placing `my_string` after it in the parentheses - you'll see more on exactly how this works later. The length of 'abc' is just the total number of characters in it, 3, which we the print to the screen.\n",
    "\n",
    "We can combine strings together as well:\n",
    "```python\n",
    "In []: string1 = \"abra\"\n",
    "       string2 = \"cadabra\"\n",
    "       magic_string = string1 + string2\n",
    "       print(magic_string)\n",
    "```"
   ]
  },
  {
   "cell_type": "code",
   "execution_count": null,
   "metadata": {},
   "outputs": [],
   "source": []
  },
  {
   "cell_type": "markdown",
   "metadata": {},
   "source": [
    "Or even like this, without creating any new variables:\n",
    "```python\n",
    "In []: print(\"abra\"+\"ca\"+\"dabra\")\n",
    "```"
   ]
  },
  {
   "cell_type": "code",
   "execution_count": null,
   "metadata": {},
   "outputs": [],
   "source": []
  },
  {
   "cell_type": "markdown",
   "metadata": {},
   "source": [
    "In programming, when we add strings together like this, we say that we **concatenate** them.\n",
    "\n",
    "When we want to combine many strings at once, we can also use commas to seperate them. This will automatically add spaces between the strings, like so:\n",
    "```python\n",
    "In []: print(\"abra\", \"ca\", \"dabra\")\n",
    "```"
   ]
  },
  {
   "cell_type": "code",
   "execution_count": null,
   "metadata": {},
   "outputs": [],
   "source": []
  },
  {
   "cell_type": "markdown",
   "metadata": {},
   "source": [
    "Of course, the commas have to go outside of the quotation marks, since otherwise the commas would become part of the actual strings themselves.\n",
    "\n",
    "Since a string is just a sequence of characters, we should be able to access each character individually as well. We can do this by using square brackets after the string, like this:\n",
    "```python\n",
    "In []: flavor = \"birthday cake\"\n",
    "       print(flavor[3])\n",
    "```     "
   ]
  },
  {
   "cell_type": "code",
   "execution_count": null,
   "metadata": {},
   "outputs": [],
   "source": []
  },
  {
   "cell_type": "markdown",
   "metadata": {},
   "source": [
    "Wait, but \"t\" is the fourth character! Well, not in the programming world. In Python (and most other programming languages), we start counting at 0. So in this case, \"b\" is the \"zeroth\" character of the string \"birthday cake\". This makes \"i\" the first character, \"r\" the second, and \"t\" the third.\n",
    "\n",
    "If we wanted to display what we would normally tend to think of as the \"first\" character, we would actually need to print the 0th character:\n",
    "```python\n",
    "print(flavor[0])\n",
    "```"
   ]
  },
  {
   "cell_type": "code",
   "execution_count": null,
   "metadata": {},
   "outputs": [],
   "source": []
  },
  {
   "cell_type": "markdown",
   "metadata": {},
   "source": [
    "Be careful when you're using:\n",
    "- parentheses: `()`\n",
    "- square brackets: `[]`\n",
    "- curly braces: `{}`\n",
    "\n",
    "These all mean different things to Python, so you can nver swith one for another. We'll see more examples of when each one is used (and we haven't seen `{}` yet), but keep in mind that they're all used differently.\n",
    "\n",
    "The number that we assigned to each character's position is call the index or subscript number, and Python thinks of the string like this:\n",
    "\n",
    "| Character: | b | i | r | t | h | d | a | y |\n",
    "| --- | --- | --- | --- | --- | --- | --- |--- | --- |\n",
    "| | | | | | | | | |\n",
    "| Index / Subscript #: | 0 | 1 | 2 | 3 | 4 | 5 | 6 | 7 |\n",
    "\n",
    "Here we told Python to show us only the first three characters of our string, starting at the 0th character and going up until (but not including) the 3rd character. The number before the colon tells Python the first character we want to include, while the number after the colon says that we want to stop just before that character.\n",
    "\n",
    "If we use the colon on the brackets but omit one of the numbers in a range, Python will assume that we meant to go all the way to the end of the string in that direction:\n",
    "```python\n",
    "In []: flavor = \"birthday cake\"\n",
    "       print(flavor[:5])\n",
    "       print(flavor[5:])\n",
    "       print(flavor[:])\n",
    "```"
   ]
  },
  {
   "cell_type": "markdown",
   "metadata": {},
   "source": [
    "The way we're using brackets after the string is referred to as subscripting or indexing since it uses the index numbers of the string's characters.\n",
    "\n",
    "# Review exercises:\n",
    "1. Create a string and print its length using the `len()` function\n",
    "2. Creat two strings, concatenate them (add them next to each other) and print the combination of the two strings\n",
    "3. Create two string variables, then print one of them after the other (with a space added in between) using a comma in your print statement\n",
    "4. print the string \"zing\" by using subscripting and index numbers on the string \"bazinga\" to specify the correct range of characters"
   ]
  },
  {
   "cell_type": "code",
   "execution_count": null,
   "metadata": {},
   "outputs": [],
   "source": []
  },
  {
   "cell_type": "code",
   "execution_count": null,
   "metadata": {},
   "outputs": [],
   "source": []
  },
  {
   "cell_type": "code",
   "execution_count": null,
   "metadata": {},
   "outputs": [],
   "source": []
  },
  {
   "cell_type": "code",
   "execution_count": null,
   "metadata": {},
   "outputs": [],
   "source": []
  }
 ],
 "metadata": {
  "kernelspec": {
   "display_name": "Python 3",
   "language": "python",
   "name": "python3"
  },
  "language_info": {
   "codemirror_mode": {
    "name": "ipython",
    "version": 3
   },
   "file_extension": ".py",
   "mimetype": "text/x-python",
   "name": "python",
   "nbconvert_exporter": "python",
   "pygments_lexer": "ipython3",
   "version": "3.6.3"
  }
 },
 "nbformat": 4,
 "nbformat_minor": 2
}
