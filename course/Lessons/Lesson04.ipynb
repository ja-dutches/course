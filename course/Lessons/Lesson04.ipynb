{
 "cells": [
  {
   "cell_type": "markdown",
   "metadata": {},
   "source": [
    "# Fundamentals: Working with Strings\n",
    "\n",
    "We've seen that string objects can hold any characters, including numbers. However,\n",
    "don't confuse string \"numbers\" with actual numbers. For instance, try this bit of code out:\n",
    "```python\n",
    "my_number = \"2\"\n",
    "print(my_number + my_number)\n",
    "```"
   ]
  },
  {
   "cell_type": "code",
   "execution_count": null,
   "metadata": {},
   "outputs": [],
   "source": []
  },
  {
   "cell_type": "markdown",
   "metadata": {},
   "source": [
    "We can add strings together, but we're just **concatenating** them - we're not actually\n",
    "adding the two quantities together. Python will even let us \"multiply\" strings as well:\n",
    "```python\n",
    "my_number = \"12\"\n",
    "print(my_number * 3)\n",
    "```"
   ]
  },
  {
   "cell_type": "code",
   "execution_count": null,
   "metadata": {},
   "outputs": [],
   "source": []
  },
  {
   "cell_type": "markdown",
   "metadata": {},
   "source": [
    "If we want to change a string object into a number, there are two general functions we\n",
    "commonly use: `int()` and `float()`.\n",
    "\n",
    "`int()` stands for **\"integer\"** and converts objects into whole numbers, while `float()`\n",
    "stands for **\"floating-point number\"** and converts objects into numbers that have decimal\n",
    "points. For instance, we could change the string my_number into an integer or a \"float\"\n",
    "like so:\n",
    "```python\n",
    "my_number = \"12\"\n",
    "print(int(my_number))\n",
    "print(float(my_number))\n",
    "```"
   ]
  },
  {
   "cell_type": "code",
   "execution_count": null,
   "metadata": {},
   "outputs": [],
   "source": []
  },
  {
   "cell_type": "markdown",
   "metadata": {},
   "source": [
    "Notice how the second version added a decimal point, because the **floating-point\n",
    "number** has more precision (more decimal places). For this reason, we couldn't change\n",
    "a string that looks like a **floating-point number** into an **integer** because we would have to\n",
    "lose everything after the decimal:\n",
    "```python\n",
    "my_number = \"12.0\"\n",
    "print(int(my_number))\n",
    "```"
   ]
  },
  {
   "cell_type": "code",
   "execution_count": null,
   "metadata": {},
   "outputs": [],
   "source": []
  },
  {
   "cell_type": "markdown",
   "metadata": {},
   "source": [
    "Even though the extra 0 after the decimal place doesn't actually add any value to our\n",
    "number, Python is telling us that we can't just change 12.0 into 12 - because we might lose part of the number.\n",
    "\n",
    "If you want to turn a number into a string, of course there's a function for that, too - the\n",
    "`str()` function. One place where this becomes important is when we want to add string\n",
    "and numbers together. For instance, we can't just concatenate the two different types of\n",
    "objects like this:\n",
    "```python\n",
    "print(\"1\" + 1)\n",
    "```"
   ]
  },
  {
   "cell_type": "code",
   "execution_count": null,
   "metadata": {},
   "outputs": [],
   "source": []
  },
  {
   "cell_type": "markdown",
   "metadata": {},
   "source": [
    "Python doesn't know how to add different types of objects together - we could have\n",
    "meant the answer to be \"2\" or \"11\" depending on whether we had **strings** or **integers**. If\n",
    "we wanted to put the two numbers side-by-side as one string, we would have to convert\n",
    "the integer into a string:\n",
    "```python\n",
    "print(\"1\" + str(1))\n",
    "```"
   ]
  },
  {
   "cell_type": "code",
   "execution_count": null,
   "metadata": {},
   "outputs": [],
   "source": []
  },
  {
   "cell_type": "markdown",
   "metadata": {},
   "source": [
    "**\"Integer\"** and **\"string\"** are called **types** of objects. Always keep in mind that you might get\n",
    "unexpected results if you mix types incorrectly or if you use one type of object when you\n",
    "really meant to use another\n",
    "\n",
    "# Review exercise:\n",
    "1. Create a string object that stores an integer as its value, then convert that string into an actual integer object using `int()`; test that your new object is really a number by multiplying it by another number and displaying the result.\n",
    "2. Repeat the previous exercise, but use a floating-point number and `float()`.\n",
    "3. Create a string object and an integer object, then display them side-by-side with a single print statement by using the `str()` function."
   ]
  },
  {
   "cell_type": "code",
   "execution_count": null,
   "metadata": {},
   "outputs": [],
   "source": []
  },
  {
   "cell_type": "code",
   "execution_count": null,
   "metadata": {},
   "outputs": [],
   "source": []
  },
  {
   "cell_type": "code",
   "execution_count": null,
   "metadata": {},
   "outputs": [],
   "source": []
  },
  {
   "cell_type": "markdown",
   "metadata": {},
   "source": [
    "# Streamline Your Print Statements\n",
    "\n",
    "Suppose we have a string object, `name = \"Zaphod\"`, and two integer objects, `num_heads\n",
    "= 2` and `num_arms = 3`. We want to display them in the following line: Zaphod has 2\n",
    "heads and 3 arms. This is called string **interpolation**, which is just a fancy way of saying\n",
    "that you want to insert some 'stuff' - i.e., variables - into a string.\n",
    "\n",
    "We've already seen two ways of doing this. The first would involve using commas to\n",
    "insert spaces between each piece of our statement:\n",
    "```python\n",
    "print(name, \"has\", str(num_heads), \"heads and\", str(num_arms), \"arms\")\n",
    "```"
   ]
  },
  {
   "cell_type": "code",
   "execution_count": 6,
   "metadata": {},
   "outputs": [],
   "source": [
    "# run this cell you will need the vaiables for the examples\n",
    "name = \"Zaphod\"\n",
    "num_heads = 2\n",
    "num_arms = 3"
   ]
  },
  {
   "cell_type": "code",
   "execution_count": null,
   "metadata": {},
   "outputs": [],
   "source": []
  },
  {
   "cell_type": "markdown",
   "metadata": {},
   "source": [
    "Another way we could do this is by concatenating the strings with the + operator:\n",
    "```python\n",
    "print(name + \" has \" + str(num_heads) + \" heads and \" + str(num_arms) + \" arms\")\n",
    "```"
   ]
  },
  {
   "cell_type": "code",
   "execution_count": null,
   "metadata": {},
   "outputs": [],
   "source": []
  },
  {
   "cell_type": "markdown",
   "metadata": {},
   "source": [
    "Trying to keep track of what goes inside or outside of the quotes can be a huge pain, which is why there's a third way of combining\n",
    "strings together: using the string `format()` method.\n",
    "\n",
    "The simplest version of the `format()` method would look like this for our example:\n",
    "```python\n",
    "print(\"{} has {} heads and {} arms\".format(name, num_heads, num_arms))\n",
    "```"
   ]
  },
  {
   "cell_type": "code",
   "execution_count": null,
   "metadata": {},
   "outputs": [],
   "source": []
  },
  {
   "cell_type": "markdown",
   "metadata": {},
   "source": [
    "The pairs of empty curly braces ( {} without any space in between the two) serve as\n",
    "placeholders for the variables that we want to place inside the string. We then pass\n",
    "these variables into our string as inputs of the string's `format()` method, in order. The\n",
    "really great part about this technique is that we didn't even have to change our integers\n",
    "into string types first - the `format()` method did that for us automatically.\n",
    "\n",
    "Although it's less frequently used, we can also use index numbers inside the curly\n",
    "braces to do the same thing:\n",
    "```python\n",
    "print(\"{0} has {1} heads and {2} arms\".format(name, num_heads, num_arms))\n",
    "```"
   ]
  },
  {
   "cell_type": "code",
   "execution_count": null,
   "metadata": {},
   "outputs": [],
   "source": []
  },
  {
   "cell_type": "markdown",
   "metadata": {},
   "source": [
    "Here we've inserted name into the {0} placeholder because it is the 0th input listed, and\n",
    "so on. Since we numbered our placeholders, we don't even have to provide the inputs in\n",
    "the same order. For instance, this line would also do the exact same thing:\n",
    "```python\n",
    "print(\"{2} has {1} heads and {0} arms\".format(num_arms, num_heads, name))\n",
    "```"
   ]
  },
  {
   "cell_type": "code",
   "execution_count": null,
   "metadata": {},
   "outputs": [],
   "source": []
  },
  {
   "cell_type": "markdown",
   "metadata": {},
   "source": [
    "If we didn't want to create three separate objects ahead of time, one last way of using\n",
    "`format()` would be to name and assign new objects inside the `format()` method, like\n",
    "so:\n",
    "```python\n",
    "print(\"{name} has {num_heads} heads and {num_arms} arms\".format(\n",
    "    name=\"Zaphod\", num_heads=2, num_arms=3\n",
    "))\n",
    "```"
   ]
  },
  {
   "cell_type": "code",
   "execution_count": null,
   "metadata": {},
   "outputs": [],
   "source": []
  },
  {
   "cell_type": "markdown",
   "metadata": {},
   "source": [
    "These input variables don't necessarily have to be listed in the same order since we've\n",
    "called on each of them by name inside the string.\n",
    "\n",
    "Finally, in Python 3.6 there is a new type of string called a <a target=\"_blank\" href=\"https://docs.python.org/3/reference/lexical_analysis.html#formatted-string-literals\">formatted string literal</a>, which can use previously defined variables or other pieces of code placed inside curly braces\n",
    "so long as we put a **f** right before the string, like this:\n",
    "```python\n",
    "print(f\"{name} has {num_heads} heads and {num_arms} arms\")\n",
    "```"
   ]
  },
  {
   "cell_type": "code",
   "execution_count": null,
   "metadata": {},
   "outputs": [],
   "source": []
  },
  {
   "cell_type": "markdown",
   "metadata": {},
   "source": [
    "This syntax combines the benefits of the last couple examples, being both less to type\n",
    "and easier to read when the values themselves appear in place. These formatted strings\n",
    "can use any number of {} placeholders to refer to variables or other expressions; take\n",
    "a look at this example, which uses three variables and even includes a calculation inside\n",
    "the string:\n",
    "```python\n",
    "print(f\"{name} has {num_heads} heads and {num_heads + 1} arms\")\n",
    "```"
   ]
  },
  {
   "cell_type": "code",
   "execution_count": null,
   "metadata": {},
   "outputs": [],
   "source": []
  },
  {
   "cell_type": "markdown",
   "metadata": {},
   "source": [
    ">NOTE: There is also another way to print formatted strings: using the % operator.\n",
    "You might see this in code that you find elsewhere, and you can read about how it\n",
    "works <a target=\"_blank\" href=\"https://docs.python.org/3.5/library/stdtypes.html#string-formatting\">here</a> \n",
    "if you're curious, but just be aware that this style has been phased out completely in **Python 3** (and the \"new\" format() style also works in Python 2.7),\n",
    "so there's no need to use this method in your code. Just be aware of it in case you come across it in legacy code bases.\n",
    "\n",
    "# Review exercises:\n",
    "1. Create a \"float\" object (a decimal number) named `weight` that holds the value `0.2`,\n",
    "and create a string object named `animal` that holds the value `\"newt\"`, then use\n",
    "these objects to print the following line without using the format() string method:\n",
    "`0.2 kg is the weight of the newt`.\n",
    "2. Display the same line using `format()` and empty {} place-holders\n",
    "3. Display the same line using {} place-holders that use the index numbers of the\n",
    "inputs provided to the `format()` method\n",
    "4. Display the same line by creating new string and float objects inside of the\n",
    "`format()` method\n",
    "5. Display the same line by creating a formatted string literal that directly uses the\n",
    "`weight` and `animal` variables"
   ]
  },
  {
   "cell_type": "code",
   "execution_count": null,
   "metadata": {},
   "outputs": [],
   "source": []
  },
  {
   "cell_type": "code",
   "execution_count": null,
   "metadata": {},
   "outputs": [],
   "source": []
  },
  {
   "cell_type": "code",
   "execution_count": null,
   "metadata": {},
   "outputs": [],
   "source": []
  },
  {
   "cell_type": "code",
   "execution_count": null,
   "metadata": {},
   "outputs": [],
   "source": []
  },
  {
   "cell_type": "code",
   "execution_count": null,
   "metadata": {},
   "outputs": [],
   "source": []
  },
  {
   "cell_type": "markdown",
   "metadata": {},
   "source": [
    "# Find a String in a String\n",
    "\n",
    "One of the most useful string methods is `find()`. As its name implies, we can use this\n",
    "method to find the location of one string in another string. We use dot notation because\n",
    "this method belongs to a string, and the input we supply in parentheses is the string\n",
    "we're searching for:\n",
    "```python\n",
    "phrase = \"the surprise is in here somewhere\"\n",
    "print(phrase.find(\"surprise\"))\n",
    "```"
   ]
  },
  {
   "cell_type": "code",
   "execution_count": null,
   "metadata": {},
   "outputs": [],
   "source": []
  },
  {
   "cell_type": "markdown",
   "metadata": {},
   "source": [
    "We're searching for the location of the string **\"surprise\"** in our phrase string. The value\n",
    "that `find()` returns is the index of the first occurrence of that string. In this case,\n",
    "\"surprise\" starts at the 4th character into the phrase **(remember to start counting at 0)**, so\n",
    "we displayed 4.\n",
    "\n",
    "If `find()` doesn't find the string we're looking for, it will return -1 instead:\n",
    "```python\n",
    "phrase = \"the surprise is in here somewhere\"\n",
    "print(phrase.find(\"not-here\"))\n",
    "```"
   ]
  },
  {
   "cell_type": "code",
   "execution_count": null,
   "metadata": {},
   "outputs": [],
   "source": []
  },
  {
   "cell_type": "markdown",
   "metadata": {},
   "source": [
    "We can even call string methods on a string literal directly, so in this case we didn't even\n",
    "need to create a new string object:\n",
    "```python\n",
    "print(\"the surprise is in here somewhere\".find(\"surprise\"))\n",
    "```"
   ]
  },
  {
   "cell_type": "code",
   "execution_count": null,
   "metadata": {},
   "outputs": [],
   "source": []
  },
  {
   "cell_type": "markdown",
   "metadata": {},
   "source": [
    "Keep in mind that this matching is done exactly, character by character. If we had tried\n",
    "to find \"SURPRISE\", we would have gotten a -1.\n",
    "\n",
    "The part of the string we are searching for (or any part of a string) is called a substring.\n",
    "\n",
    "If a substring appears more than once in our string, `find()` will just return the first\n",
    "appearance, starting from the beginning of the string. For instance, try out:\n",
    "```python\n",
    "\"I put a string in your string\".find(\"string\")\n",
    "```"
   ]
  },
  {
   "cell_type": "code",
   "execution_count": null,
   "metadata": {},
   "outputs": [],
   "source": []
  },
  {
   "cell_type": "markdown",
   "metadata": {},
   "source": [
    "Keep in mind that we still can't mix object types; `find()` will only accept a string as its\n",
    "input. If we were looking for an integer inside in a string, we would still have to put that\n",
    "integer value in a string of its own:\n",
    "```python\n",
    "\"My number is 555-555-5555\".find(\"5\")\n",
    "```"
   ]
  },
  {
   "cell_type": "code",
   "execution_count": null,
   "metadata": {},
   "outputs": [],
   "source": []
  },
  {
   "cell_type": "markdown",
   "metadata": {},
   "source": [
    "A similar string method is `replace()`, which will replace all occurrences of one substring\n",
    "with a different string. For instance, let's replace every instance of \"the truth\" with the\n",
    "string \"lies\" in the following:\n",
    "```python\n",
    "my_story = \"I'm telling you the truth; he spoke nothing but the truth!\"\n",
    "print(my_story.replace(\"the truth\", \"lies\"))\n",
    "```"
   ]
  },
  {
   "cell_type": "code",
   "execution_count": null,
   "metadata": {},
   "outputs": [],
   "source": []
  },
  {
   "cell_type": "markdown",
   "metadata": {},
   "source": [
    "Keep in mind that calling `replace()` did not actually change my_story; in order to affect\n",
    "this string, we would still have to reassign it to a new value, as in:\n",
    "```python\n",
    "my_story = my_story.replace(\"the truth\", \"lies\")\n",
    "```"
   ]
  },
  {
   "cell_type": "code",
   "execution_count": null,
   "metadata": {},
   "outputs": [],
   "source": []
  },
  {
   "cell_type": "markdown",
   "metadata": {},
   "source": [
    "# Review exercises:\n",
    "1. In one line, display the result of trying to `find()` the substring \"a\" in the string\n",
    "\"AAA\"; the result should be -1\n",
    "2. Create a string object that contains the value \"version 2.0\"; `find()` the first\n",
    "occurrence of the number 2.0 inside of this string by first creating a \"float\" object that\n",
    "stores the value 2.0 as a floating-point number, then converting that object to a\n",
    "string using the `str()` function\n",
    "3. Write and test a script that accepts user input using `input()`, then displays the\n",
    "result of trying to `find()` a particular letter in that input"
   ]
  },
  {
   "cell_type": "code",
   "execution_count": null,
   "metadata": {},
   "outputs": [],
   "source": []
  },
  {
   "cell_type": "code",
   "execution_count": null,
   "metadata": {},
   "outputs": [],
   "source": []
  },
  {
   "cell_type": "code",
   "execution_count": null,
   "metadata": {},
   "outputs": [],
   "source": []
  },
  {
   "cell_type": "markdown",
   "metadata": {},
   "source": [
    "# Complete Assignment02"
   ]
  }
 ],
 "metadata": {
  "kernelspec": {
   "display_name": "Python 3",
   "language": "python",
   "name": "python3"
  },
  "language_info": {
   "codemirror_mode": {
    "name": "ipython",
    "version": 3
   },
   "file_extension": ".py",
   "mimetype": "text/x-python",
   "name": "python",
   "nbconvert_exporter": "python",
   "pygments_lexer": "ipython3",
   "version": "3.6.3"
  }
 },
 "nbformat": 4,
 "nbformat_minor": 2
}
